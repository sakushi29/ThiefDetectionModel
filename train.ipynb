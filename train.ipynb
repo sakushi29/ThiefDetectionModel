{
 "cells": [
  {
   "cell_type": "code",
   "execution_count": 1,
   "id": "b1cb538b-9b1b-450b-8f57-ab79dac6c040",
   "metadata": {},
   "outputs": [],
   "source": [
    "import tensorflow as tf\n",
    "from tensorflow import keras"
   ]
  },
  {
   "cell_type": "code",
   "execution_count": 5,
   "id": "65445ff1-7232-44da-b014-b91d6ca317c4",
   "metadata": {},
   "outputs": [],
   "source": [
    "from SpatioTemporalAutoEncoder import loadModel\n",
    "import numpy as np"
   ]
  },
  {
   "cell_type": "code",
   "execution_count": 6,
   "id": "922271f5-aaf4-4a3c-8e8e-015b3c6ec97d",
   "metadata": {},
   "outputs": [],
   "source": [
    "x_train_data=np.load('training.npy')\n",
    "frames=x_train_data.shape[2]\n",
    "frames=frames-frames%10\n",
    "\n",
    "x_train_data=x_train_data[:,:,:frames]\n",
    "x_train_data=x_train_data.reshape(-1,227,227,10)\n",
    "x_train_data=np.expand_dims(x_train_data,axis=4)\n",
    "y_train_data=x_train_data.copy()"
   ]
  },
  {
   "cell_type": "code",
   "execution_count": 7,
   "id": "bb4001ce-dc99-44b0-81b1-672e9a139806",
   "metadata": {},
   "outputs": [
    {
     "name": "stdout",
     "output_type": "stream",
     "text": [
      "Model has been loaded\n",
      "Epoch 1/20\n",
      "25/25 [==============================] - 21s 368ms/step - loss: 0.2250 - accuracy: 0.5362\n",
      "Epoch 2/20\n",
      "25/25 [==============================] - 10s 394ms/step - loss: 0.2009 - accuracy: 0.5428\n",
      "Epoch 3/20\n",
      "25/25 [==============================] - 10s 388ms/step - loss: 0.1996 - accuracy: 0.5441\n",
      "Epoch 4/20\n",
      "25/25 [==============================] - 10s 402ms/step - loss: 0.1484 - accuracy: 0.6196\n",
      "Epoch 5/20\n",
      "25/25 [==============================] - 9s 372ms/step - loss: 0.0961 - accuracy: 0.7053\n",
      "Epoch 6/20\n",
      "25/25 [==============================] - 9s 358ms/step - loss: 0.0893 - accuracy: 0.7127\n",
      "Epoch 7/20\n",
      "25/25 [==============================] - 9s 353ms/step - loss: 0.0858 - accuracy: 0.7151\n",
      "Epoch 8/20\n",
      "25/25 [==============================] - 9s 351ms/step - loss: 0.0839 - accuracy: 0.7168\n",
      "Epoch 9/20\n",
      "25/25 [==============================] - 9s 349ms/step - loss: 0.0820 - accuracy: 0.7170\n",
      "Epoch 10/20\n",
      "25/25 [==============================] - 9s 360ms/step - loss: 0.0817 - accuracy: 0.7180\n",
      "Epoch 11/20\n",
      "25/25 [==============================] - 8s 338ms/step - loss: 0.0807 - accuracy: 0.7188\n",
      "Epoch 12/20\n",
      "25/25 [==============================] - 9s 359ms/step - loss: 0.0800 - accuracy: 0.7196\n",
      "Epoch 13/20\n",
      "25/25 [==============================] - 10s 388ms/step - loss: 0.0793 - accuracy: 0.7197\n",
      "Epoch 14/20\n",
      "25/25 [==============================] - 10s 412ms/step - loss: 0.0784 - accuracy: 0.7230\n",
      "Epoch 15/20\n",
      "25/25 [==============================] - 10s 383ms/step - loss: 0.0775 - accuracy: 0.7240\n",
      "Epoch 16/20\n",
      "25/25 [==============================] - 9s 353ms/step - loss: 0.0766 - accuracy: 0.7256\n",
      "Epoch 17/20\n",
      "25/25 [==============================] - 9s 359ms/step - loss: 0.0762 - accuracy: 0.7255\n",
      "Epoch 18/20\n",
      "25/25 [==============================] - 9s 373ms/step - loss: 0.0767 - accuracy: 0.7253\n",
      "Epoch 19/20\n",
      "25/25 [==============================] - 9s 368ms/step - loss: 0.0770 - accuracy: 0.7254\n",
      "Epoch 20/20\n",
      "25/25 [==============================] - 9s 342ms/step - loss: 0.0759 - accuracy: 0.7268\n"
     ]
    },
    {
     "data": {
      "text/plain": [
       "<keras.callbacks.History at 0x1c4c6a31000>"
      ]
     },
     "execution_count": 7,
     "metadata": {},
     "output_type": "execute_result"
    }
   ],
   "source": [
    "model=loadModel()\n",
    "\n",
    "print('Model has been loaded')\n",
    "\n",
    "model.fit(x_train_data,y_train_data,\n",
    "          batch_size=1,\n",
    "          epochs=20)"
   ]
  },
  {
   "cell_type": "code",
   "execution_count": 14,
   "id": "f2b7f35c-2fda-47e6-9583-28f41f68f385",
   "metadata": {},
   "outputs": [],
   "source": [
    "model.save_weights('weights', save_format='tf')"
   ]
  }
 ],
 "metadata": {
  "kernelspec": {
   "display_name": "Python 3 (ipykernel)",
   "language": "python",
   "name": "python3"
  },
  "language_info": {
   "codemirror_mode": {
    "name": "ipython",
    "version": 3
   },
   "file_extension": ".py",
   "mimetype": "text/x-python",
   "name": "python",
   "nbconvert_exporter": "python",
   "pygments_lexer": "ipython3",
   "version": "3.10.5"
  }
 },
 "nbformat": 4,
 "nbformat_minor": 5
}
